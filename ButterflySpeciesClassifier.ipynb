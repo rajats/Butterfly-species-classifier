{
 "cells": [
  {
   "cell_type": "code",
   "execution_count": 1,
   "metadata": {
    "collapsed": false
   },
   "outputs": [
    {
     "name": "stderr",
     "output_type": "stream",
     "text": [
      "Using gpu device 0: GeForce GT 640M (CNMeM is disabled, cuDNN not available)\n"
     ]
    }
   ],
   "source": [
    "import numpy as np\n",
    "import theano\n",
    "import theano.tensor as T\n",
    "import lasagne\n",
    "\n",
    "import matplotlib.pyplot as plt\n",
    "%matplotlib inline\n",
    "\n",
    "import pickle\n",
    "import os\n",
    "from sklearn.cross_validation import train_test_split\n",
    "\n",
    "from prepare_images import prep_image\n",
    "from cnn_creator import create_cnn\n",
    "from trainer import train"
   ]
  },
  {
   "cell_type": "code",
   "execution_count": 2,
   "metadata": {
    "collapsed": false
   },
   "outputs": [
    {
     "name": "stdout",
     "output_type": "stream",
     "text": [
      "(832, 3, 224, 224)\n",
      "(832,)\n"
     ]
    }
   ],
   "source": [
    "X = []\n",
    "y = []\n",
    "\n",
    "for cls in xrange(10):\n",
    "    for fn in os.listdir('./leedsbutterfly/classes/{}'.format(cls+1)):\n",
    "        _, im = prep_image('./leedsbutterfly/classes/{}/{}'.format(cls+1, fn))\n",
    "        X.append(im)\n",
    "        y.append(cls)\n",
    "        \n",
    "X = np.concatenate(X)\n",
    "y = np.array(y).astype('int32')\n",
    "print X.shape\n",
    "print y.shape"
   ]
  },
  {
   "cell_type": "code",
   "execution_count": 3,
   "metadata": {
    "collapsed": false
   },
   "outputs": [
    {
     "name": "stdout",
     "output_type": "stream",
     "text": [
      "(468, 3, 224, 224) (468,)\n",
      "(156, 3, 224, 224) (156,)\n",
      "(208, 3, 224, 224) (208,)\n",
      "47\n",
      "47\n",
      "30\n",
      "52\n",
      "55\n",
      "55\n",
      "48\n",
      "32\n",
      "56\n",
      "46\n"
     ]
    }
   ],
   "source": [
    "# Split data into training, testing and validation set\n",
    "rng = np.random.RandomState(0)\n",
    "permutation = rng.permutation(len(X))\n",
    "X, y = X[permutation], y[permutation]\n",
    "train_idxs, test_idxs = train_test_split(range(len(y)),  random_state=0)\n",
    "train_idxs, val_idxs = train_test_split(range(len(train_idxs)),  random_state=0)\n",
    "\n",
    "X_train = X[train_idxs]\n",
    "y_train = y[train_idxs]\n",
    "\n",
    "X_val = X[val_idxs]\n",
    "y_val = y[val_idxs]\n",
    "\n",
    "X_test = X[test_idxs]\n",
    "y_test = y[test_idxs]\n",
    "\n",
    "print X_train.shape, y_train.shape\n",
    "print X_val.shape, y_val.shape\n",
    "print X_test.shape, y_test.shape\n",
    "# check training data contains examples from all classes in good number\n",
    "print sum(y_train==0)\n",
    "print sum(y_train==1)\n",
    "print sum(y_train==2)\n",
    "print sum(y_train==3)\n",
    "print sum(y_train==4)\n",
    "print sum(y_train==5)\n",
    "print sum(y_train==6)\n",
    "print sum(y_train==7)\n",
    "print sum(y_train==8)\n",
    "print sum(y_train==9)"
   ]
  },
  {
   "cell_type": "code",
   "execution_count": 4,
   "metadata": {
    "collapsed": false
   },
   "outputs": [],
   "source": [
    "net = create_cnn()"
   ]
  },
  {
   "cell_type": "code",
   "execution_count": 5,
   "metadata": {
    "collapsed": false
   },
   "outputs": [
    {
     "name": "stdout",
     "output_type": "stream",
     "text": [
      "training\n",
      "epoch 1 / 30 : training loss: 4.841275, training accuracy: 0.383, validation loss: 4.874491, validation accuracy: 0.407\n",
      "epoch 2 / 30 : training loss: 4.122441, training accuracy: 0.697, validation loss: 4.533010, validation accuracy: 0.560\n",
      "epoch 3 / 30 : training loss: 3.836190, training accuracy: 0.841, validation loss: 4.460164, validation accuracy: 0.560\n",
      "epoch 4 / 30 : training loss: 3.706295, training accuracy: 0.873, validation loss: 4.318395, validation accuracy: 0.600\n",
      "epoch 5 / 30 : training loss: 3.494580, training accuracy: 0.951, validation loss: 4.409288, validation accuracy: 0.540\n",
      "epoch 6 / 30 : training loss: 3.437674, training accuracy: 0.946, validation loss: 4.188175, validation accuracy: 0.613\n",
      "epoch 7 / 30 : training loss: 3.331707, training accuracy: 0.989, validation loss: 4.199455, validation accuracy: 0.600\n",
      "epoch 8 / 30 : training loss: 3.286637, training accuracy: 0.989, validation loss: 4.130254, validation accuracy: 0.647\n",
      "epoch 9 / 30 : training loss: 3.274756, training accuracy: 0.994, validation loss: 4.282640, validation accuracy: 0.573\n",
      "epoch 10 / 30 : training loss: 3.210279, training accuracy: 0.996, validation loss: 4.121442, validation accuracy: 0.620\n",
      "epoch 11 / 30 : training loss: 3.186199, training accuracy: 0.994, validation loss: 4.287111, validation accuracy: 0.553\n",
      "epoch 12 / 30 : training loss: 3.158313, training accuracy: 0.994, validation loss: 4.197905, validation accuracy: 0.613\n",
      "epoch 13 / 30 : training loss: 3.123244, training accuracy: 1.000, validation loss: 4.228408, validation accuracy: 0.620\n",
      "epoch 14 / 30 : training loss: 3.108147, training accuracy: 0.998, validation loss: 4.183107, validation accuracy: 0.580\n",
      "epoch 15 / 30 : training loss: 3.078129, training accuracy: 1.000, validation loss: 4.067862, validation accuracy: 0.673\n",
      "epoch 16 / 30 : training loss: 3.069143, training accuracy: 0.996, validation loss: 4.025221, validation accuracy: 0.633\n",
      "epoch 17 / 30 : training loss: 3.052786, training accuracy: 1.000, validation loss: 4.066066, validation accuracy: 0.627\n",
      "epoch 18 / 30 : training loss: 3.028383, training accuracy: 1.000, validation loss: 4.017966, validation accuracy: 0.653\n",
      "epoch 19 / 30 : training loss: 3.002490, training accuracy: 0.998, validation loss: 4.097047, validation accuracy: 0.640\n",
      "epoch 20 / 30 : training loss: 2.986630, training accuracy: 0.998, validation loss: 3.889718, validation accuracy: 0.693\n",
      "epoch 21 / 30 : training loss: 2.963250, training accuracy: 1.000, validation loss: 4.200992, validation accuracy: 0.607\n",
      "epoch 22 / 30 : training loss: 2.940560, training accuracy: 1.000, validation loss: 4.010909, validation accuracy: 0.647\n",
      "epoch 23 / 30 : training loss: 2.933218, training accuracy: 0.998, validation loss: 3.966523, validation accuracy: 0.647\n",
      "epoch 24 / 30 : training loss: 2.904738, training accuracy: 1.000, validation loss: 4.196401, validation accuracy: 0.573\n",
      "epoch 25 / 30 : training loss: 2.895884, training accuracy: 1.000, validation loss: 3.901182, validation accuracy: 0.687\n",
      "epoch 26 / 30 : training loss: 2.880612, training accuracy: 1.000, validation loss: 3.769045, validation accuracy: 0.707\n",
      "epoch 27 / 30 : training loss: 2.852008, training accuracy: 1.000, validation loss: 4.066547, validation accuracy: 0.580\n",
      "epoch 28 / 30 : training loss: 2.828145, training accuracy: 0.998, validation loss: 4.102407, validation accuracy: 0.607\n",
      "epoch 29 / 30 : training loss: 2.819809, training accuracy: 1.000, validation loss: 3.872764, validation accuracy: 0.640\n",
      "epoch 30 / 30 : training loss: 2.796379, training accuracy: 1.000, validation loss: 3.988351, validation accuracy: 0.627\n"
     ]
    }
   ],
   "source": [
    "model, loss_history, train_acc_history, val_acc_history, predict_fn = train(net, X_train, y_train, X_val, y_val,\n",
    "                                                                            batch_size=15, num_epochs=30)"
   ]
  },
  {
   "cell_type": "code",
   "execution_count": 6,
   "metadata": {
    "collapsed": true
   },
   "outputs": [],
   "source": [
    "#save the model and solver for later use\n",
    "with open('saved_model2.pkl', 'wb') as output:\n",
    "    pickle.dump(model, output, pickle.HIGHEST_PROTOCOL)"
   ]
  },
  {
   "cell_type": "code",
   "execution_count": null,
   "metadata": {
    "collapsed": false
   },
   "outputs": [],
   "source": [
    "plt.subplot(2, 1, 1)\n",
    "plt.plot(np.array(loss_history).clip(max=5))\n",
    "plt.xlabel('iteration')\n",
    "plt.ylabel('loss')\n",
    "plt.subplot(2, 1, 2)\n",
    "plt.plot(train_acc_history)\n",
    "plt.plot(val_acc_history)\n",
    "plt.legend(['train', 'val'], loc='upper left')\n",
    "plt.xlabel('epoch')\n",
    "plt.ylabel('accuracy')\n",
    "plt.show()"
   ]
  },
  {
   "cell_type": "code",
   "execution_count": 8,
   "metadata": {
    "collapsed": false
   },
   "outputs": [
    {
     "name": "stdout",
     "output_type": "stream",
     "text": [
      "best validation accuracy after training for 30 epochs:  0.706666666667\n"
     ]
    }
   ],
   "source": [
    "print \"best validation accuracy after training for 30 epochs: \",  max(val_acc_history)"
   ]
  },
  {
   "cell_type": "code",
   "execution_count": null,
   "metadata": {
    "collapsed": true
   },
   "outputs": [],
   "source": [
    "y_test_pred = predict_fn(X_test)"
   ]
  },
  {
   "cell_type": "code",
   "execution_count": null,
   "metadata": {
    "collapsed": true
   },
   "outputs": [],
   "source": [
    "print np.mean(y_test==y_test_pred)"
   ]
  }
 ],
 "metadata": {
  "anaconda-cloud": {},
  "kernelspec": {
   "display_name": "Python [Root]",
   "language": "python",
   "name": "Python [Root]"
  },
  "language_info": {
   "codemirror_mode": {
    "name": "ipython",
    "version": 2
   },
   "file_extension": ".py",
   "mimetype": "text/x-python",
   "name": "python",
   "nbconvert_exporter": "python",
   "pygments_lexer": "ipython2",
   "version": "2.7.12"
  }
 },
 "nbformat": 4,
 "nbformat_minor": 0
}
