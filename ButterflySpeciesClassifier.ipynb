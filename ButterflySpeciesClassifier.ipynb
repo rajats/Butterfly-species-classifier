{
 "cells": [
  {
   "cell_type": "code",
   "execution_count": 1,
   "metadata": {
    "collapsed": false
   },
   "outputs": [
    {
     "name": "stderr",
     "output_type": "stream",
     "text": [
      "Using gpu device 0: GeForce GT 640M (CNMeM is disabled, cuDNN not available)\n"
     ]
    }
   ],
   "source": [
    "import numpy as np\n",
    "import theano\n",
    "import theano.tensor as T\n",
    "import lasagne\n",
    "\n",
    "import matplotlib.pyplot as plt\n",
    "%matplotlib inline\n",
    "\n",
    "import pickle\n",
    "import os\n",
    "from sklearn.cross_validation import train_test_split\n",
    "\n",
    "from prepare_images import prep_image\n",
    "from cnn_creator import create_cnn\n",
    "from trainer import train"
   ]
  },
  {
   "cell_type": "code",
   "execution_count": 2,
   "metadata": {
    "collapsed": false
   },
   "outputs": [
    {
     "name": "stdout",
     "output_type": "stream",
     "text": [
      "(832, 3, 224, 224)\n",
      "(832,)\n"
     ]
    }
   ],
   "source": [
    "X = []\n",
    "y = []\n",
    "\n",
    "for cls in xrange(10):\n",
    "    for fn in os.listdir('./leedsbutterfly/classes/{}'.format(cls+1)):\n",
    "        _, im = prep_image('./leedsbutterfly/classes/{}/{}'.format(cls+1, fn))\n",
    "        X.append(im)\n",
    "        y.append(cls)\n",
    "        \n",
    "X = np.concatenate(X)\n",
    "y = np.array(y).astype('int32')\n",
    "print X.shape\n",
    "print y.shape"
   ]
  },
  {
   "cell_type": "code",
   "execution_count": 4,
   "metadata": {
    "collapsed": false
   },
   "outputs": [
    {
     "name": "stdout",
     "output_type": "stream",
     "text": [
      "(468, 3, 224, 224) (468,)\n",
      "(156, 3, 224, 224) (156,)\n",
      "(208, 3, 224, 224) (208,)\n",
      "41\n",
      "54\n",
      "35\n",
      "52\n",
      "51\n",
      "50\n",
      "52\n",
      "39\n",
      "44\n",
      "50\n"
     ]
    }
   ],
   "source": [
    "# Split data into training, testing and validation set\n",
    "rng = np.random.RandomState(0)\n",
    "permutation = rng.permutation(len(X))\n",
    "X, y = X[permutation], y[permutation]\n",
    "train_idxs, test_idxs = train_test_split(range(len(y)),  random_state=0)\n",
    "train_idxs, val_idxs = train_test_split(range(len(train_idxs)),  random_state=0)\n",
    "\n",
    "X_train = X[train_idxs]\n",
    "y_train = y[train_idxs]\n",
    "\n",
    "X_val = X[val_idxs]\n",
    "y_val = y[val_idxs]\n",
    "\n",
    "X_test = X[test_idxs]\n",
    "y_test = y[test_idxs]\n",
    "\n",
    "print X_train.shape, y_train.shape\n",
    "print X_val.shape, y_val.shape\n",
    "print X_test.shape, y_test.shape\n",
    "# check training data contains examples from all classes in good number\n",
    "print sum(y_train==0)\n",
    "print sum(y_train==1)\n",
    "print sum(y_train==2)\n",
    "print sum(y_train==3)\n",
    "print sum(y_train==4)\n",
    "print sum(y_train==5)\n",
    "print sum(y_train==6)\n",
    "print sum(y_train==7)\n",
    "print sum(y_train==8)\n",
    "print sum(y_train==9)"
   ]
  },
  {
   "cell_type": "code",
   "execution_count": 5,
   "metadata": {
    "collapsed": false
   },
   "outputs": [],
   "source": [
    "net = create_cnn()"
   ]
  },
  {
   "cell_type": "code",
   "execution_count": 6,
   "metadata": {
    "collapsed": false
   },
   "outputs": [
    {
     "name": "stdout",
     "output_type": "stream",
     "text": [
      "training\n",
      "epoch 1 / 60 : training loss: 5.191659, training accuracy: 0.228, validation loss: 5.043465, validation accuracy: 0.320\n",
      "epoch 2 / 60 : training loss: 4.589755, training accuracy: 0.492, validation loss: 4.824365, validation accuracy: 0.367\n",
      "epoch 3 / 60 : training loss: 4.345675, training accuracy: 0.630, validation loss: 4.893734, validation accuracy: 0.313\n",
      "epoch 4 / 60 : training loss: 4.167356, training accuracy: 0.688, validation loss: 4.694674, validation accuracy: 0.473\n",
      "epoch 5 / 60 : training loss: 4.030727, training accuracy: 0.763, validation loss: 4.643802, validation accuracy: 0.440\n",
      "epoch 6 / 60 : training loss: 3.956269, training accuracy: 0.798, validation loss: 4.613023, validation accuracy: 0.447\n",
      "epoch 7 / 60 : training loss: 3.798638, training accuracy: 0.860, validation loss: 4.475920, validation accuracy: 0.533\n",
      "epoch 8 / 60 : training loss: 3.824120, training accuracy: 0.847, validation loss: 4.578300, validation accuracy: 0.513\n",
      "epoch 9 / 60 : training loss: 3.733499, training accuracy: 0.888, validation loss: 4.365595, validation accuracy: 0.540\n",
      "epoch 10 / 60 : training loss: 3.620218, training accuracy: 0.918, validation loss: 4.537258, validation accuracy: 0.540\n",
      "epoch 11 / 60 : training loss: 3.613845, training accuracy: 0.925, validation loss: 4.311661, validation accuracy: 0.560\n",
      "epoch 12 / 60 : training loss: 3.559067, training accuracy: 0.951, validation loss: 4.350498, validation accuracy: 0.600\n",
      "epoch 13 / 60 : training loss: 3.552210, training accuracy: 0.953, validation loss: 4.337586, validation accuracy: 0.593\n",
      "epoch 14 / 60 : training loss: 3.452120, training accuracy: 0.961, validation loss: 4.445392, validation accuracy: 0.600\n",
      "epoch 15 / 60 : training loss: 3.431741, training accuracy: 0.963, validation loss: 4.377493, validation accuracy: 0.580\n",
      "epoch 16 / 60 : training loss: 3.412712, training accuracy: 0.978, validation loss: 4.483682, validation accuracy: 0.533\n",
      "epoch 17 / 60 : training loss: 3.395564, training accuracy: 0.966, validation loss: 4.188121, validation accuracy: 0.640\n",
      "epoch 18 / 60 : training loss: 3.393674, training accuracy: 0.978, validation loss: 4.280573, validation accuracy: 0.593\n",
      "epoch 19 / 60 : training loss: 3.387903, training accuracy: 0.978, validation loss: 4.083863, validation accuracy: 0.653\n",
      "epoch 20 / 60 : training loss: 3.369633, training accuracy: 0.974, validation loss: 4.158905, validation accuracy: 0.653\n",
      "epoch 21 / 60 : training loss: 3.314829, training accuracy: 0.994, validation loss: 4.381505, validation accuracy: 0.533\n",
      "epoch 22 / 60 : training loss: 3.298589, training accuracy: 0.987, validation loss: 4.340058, validation accuracy: 0.600\n",
      "epoch 23 / 60 : training loss: 3.286497, training accuracy: 0.989, validation loss: 4.354088, validation accuracy: 0.587\n",
      "epoch 24 / 60 : training loss: 3.278552, training accuracy: 0.978, validation loss: 4.166797, validation accuracy: 0.580\n",
      "epoch 25 / 60 : training loss: 3.256644, training accuracy: 0.989, validation loss: 4.040327, validation accuracy: 0.653\n",
      "epoch 26 / 60 : training loss: 3.256338, training accuracy: 0.991, validation loss: 4.215019, validation accuracy: 0.607\n",
      "epoch 27 / 60 : training loss: 3.238045, training accuracy: 0.994, validation loss: 4.191885, validation accuracy: 0.613\n",
      "epoch 28 / 60 : training loss: 3.204355, training accuracy: 0.994, validation loss: 4.077462, validation accuracy: 0.660\n",
      "epoch 29 / 60 : training loss: 3.199261, training accuracy: 0.991, validation loss: 4.133360, validation accuracy: 0.627\n",
      "epoch 30 / 60 : training loss: 3.198234, training accuracy: 0.985, validation loss: 4.164945, validation accuracy: 0.593\n",
      "epoch 31 / 60 : training loss: 3.186992, training accuracy: 0.991, validation loss: 4.173814, validation accuracy: 0.600\n",
      "epoch 32 / 60 : training loss: 3.176814, training accuracy: 0.994, validation loss: 4.095387, validation accuracy: 0.600\n",
      "epoch 33 / 60 : training loss: 3.178423, training accuracy: 0.987, validation loss: 4.189789, validation accuracy: 0.587\n",
      "epoch 34 / 60 : training loss: 3.172445, training accuracy: 0.985, validation loss: 4.092824, validation accuracy: 0.627\n",
      "epoch 35 / 60 : training loss: 3.146117, training accuracy: 0.998, validation loss: 3.985644, validation accuracy: 0.667\n",
      "epoch 36 / 60 : training loss: 3.140007, training accuracy: 0.989, validation loss: 3.884469, validation accuracy: 0.700\n",
      "epoch 37 / 60 : training loss: 3.121944, training accuracy: 0.996, validation loss: 4.038370, validation accuracy: 0.653\n",
      "epoch 38 / 60 : training loss: 3.100103, training accuracy: 0.994, validation loss: 4.274013, validation accuracy: 0.560\n",
      "epoch 39 / 60 : training loss: 3.127165, training accuracy: 0.991, validation loss: 3.956615, validation accuracy: 0.680\n",
      "epoch 40 / 60 : training loss: 3.079768, training accuracy: 0.996, validation loss: 3.925140, validation accuracy: 0.673\n",
      "epoch 41 / 60 : training loss: 3.086526, training accuracy: 0.991, validation loss: 4.163726, validation accuracy: 0.627\n",
      "epoch 42 / 60 : training loss: 3.077252, training accuracy: 0.989, validation loss: 4.250759, validation accuracy: 0.607\n",
      "epoch 43 / 60 : training loss: 3.066842, training accuracy: 0.996, validation loss: 3.920056, validation accuracy: 0.660\n",
      "epoch 44 / 60 : training loss: 3.068551, training accuracy: 0.994, validation loss: 4.242385, validation accuracy: 0.567\n",
      "epoch 45 / 60 : training loss: 3.057358, training accuracy: 0.998, validation loss: 3.780435, validation accuracy: 0.720\n",
      "epoch 46 / 60 : training loss: 3.044282, training accuracy: 1.000, validation loss: 4.004936, validation accuracy: 0.633\n",
      "epoch 47 / 60 : training loss: 3.033750, training accuracy: 0.998, validation loss: 4.184100, validation accuracy: 0.620\n",
      "epoch 48 / 60 : training loss: 3.035275, training accuracy: 0.994, validation loss: 3.987666, validation accuracy: 0.673\n",
      "epoch 49 / 60 : training loss: 3.023662, training accuracy: 0.994, validation loss: 4.006163, validation accuracy: 0.633\n",
      "epoch 50 / 60 : training loss: 3.030028, training accuracy: 0.989, validation loss: 4.179630, validation accuracy: 0.573\n",
      "epoch 51 / 60 : training loss: 3.007544, training accuracy: 0.996, validation loss: 3.923461, validation accuracy: 0.687\n",
      "epoch 52 / 60 : training loss: 2.997524, training accuracy: 0.991, validation loss: 4.050105, validation accuracy: 0.593\n",
      "epoch 53 / 60 : training loss: 3.004065, training accuracy: 0.994, validation loss: 4.213890, validation accuracy: 0.540\n",
      "epoch 54 / 60 : training loss: 2.983164, training accuracy: 0.996, validation loss: 4.033919, validation accuracy: 0.607\n",
      "epoch 55 / 60 : training loss: 2.983450, training accuracy: 0.996, validation loss: 3.939219, validation accuracy: 0.673\n",
      "epoch 56 / 60 : training loss: 2.983847, training accuracy: 0.996, validation loss: 4.044940, validation accuracy: 0.607\n",
      "epoch 57 / 60 : training loss: 2.968332, training accuracy: 0.996, validation loss: 4.063556, validation accuracy: 0.600\n",
      "epoch 58 / 60 : training loss: 2.959842, training accuracy: 1.000, validation loss: 4.114160, validation accuracy: 0.607\n",
      "epoch 59 / 60 : training loss: 2.961040, training accuracy: 0.994, validation loss: 3.870332, validation accuracy: 0.693\n",
      "epoch 60 / 60 : training loss: 2.947490, training accuracy: 0.996, validation loss: 3.947980, validation accuracy: 0.653\n"
     ]
    }
   ],
   "source": [
    "model, loss_history, train_acc_history, val_acc_history, predict_fn = train(net, X_train, y_train, X_val, y_val, \n",
    "                                                                decay_after_epochs=2, batch_size=15, num_epochs=60)"
   ]
  },
  {
   "cell_type": "code",
   "execution_count": 6,
   "metadata": {
    "collapsed": true
   },
   "outputs": [],
   "source": [
    "#save the model and solver for later use\n",
    "with open('saved_model2.pkl', 'wb') as output:\n",
    "    pickle.dump(model, output, pickle.HIGHEST_PROTOCOL)"
   ]
  },
  {
   "cell_type": "code",
   "execution_count": 7,
   "metadata": {
    "collapsed": false
   },
   "outputs": [
    {
     "data": {
      "image/png": "[encoded data removed]",
      "text/plain": [
       "<matplotlib.figure.Figure at 0x7ff1af1eaed0>"
      ]
     },
     "metadata": {},
     "output_type": "display_data"
    }
   ],
   "source": [
    "plt.plot(train_acc_history)\n",
    "plt.plot(val_acc_history)\n",
    "plt.legend(['train', 'val'], loc='upper left')\n",
    "plt.xlabel('epoch')\n",
    "plt.ylabel('accuracy')\n",
    "plt.show()"
   ]
  },
  {
   "cell_type": "code",
   "execution_count": 8,
   "metadata": {
    "collapsed": false
   },
   "outputs": [
    {
     "name": "stdout",
     "output_type": "stream",
     "text": [
      "best validation accuracy after training for 60 epochs:  0.72\n"
     ]
    }
   ],
   "source": [
    "print \"best validation accuracy after training for 60 epochs: \",  max(val_acc_history)"
   ]
  },
  {
   "cell_type": "code",
   "execution_count": 9,
   "metadata": {
    "collapsed": true
   },
   "outputs": [],
   "source": [
    "y_test_pred = predict_fn(X_test)"
   ]
  },
  {
   "cell_type": "code",
   "execution_count": 10,
   "metadata": {
    "collapsed": false
   },
   "outputs": [
    {
     "name": "stdout",
     "output_type": "stream",
     "text": [
      "0.8125\n"
     ]
    }
   ],
   "source": [
    "print np.mean(y_test==y_test_pred)"
   ]
  }
 ],
 "metadata": {
  "anaconda-cloud": {},
  "kernelspec": {
   "display_name": "Python [Root]",
   "language": "python",
   "name": "Python [Root]"
  },
  "language_info": {
   "codemirror_mode": {
    "name": "ipython",
    "version": 2
   },
   "file_extension": ".py",
   "mimetype": "text/x-python",
   "name": "python",
   "nbconvert_exporter": "python",
   "pygments_lexer": "ipython2",
   "version": "2.7.12"
  }
 },
 "nbformat": 4,
 "nbformat_minor": 0
}
