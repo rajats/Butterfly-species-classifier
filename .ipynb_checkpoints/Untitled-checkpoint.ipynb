{
 "cells": [
  {
   "cell_type": "code",
   "execution_count": 1,
   "metadata": {
    "collapsed": false
   },
   "outputs": [],
   "source": [
    "import re\n",
    "import os\n",
    "import zipfile\n",
    "from os import walk\n",
    "from shutil import  copy \n",
    "\n",
    "filepath = os.path.abspath(\"leedsbutterfly_dataset_v1.0.zip\")\n",
    "zip_ref = zipfile.ZipFile(filepath, 'r')\n",
    "zip_ref.extractall()\n",
    "zip_ref.close()"
   ]
  },
  {
   "cell_type": "code",
   "execution_count": 3,
   "metadata": {
    "collapsed": false
   },
   "outputs": [],
   "source": [
    "dataset_path = os.path.abspath(\"leedsbutterfly\")"
   ]
  },
  {
   "cell_type": "code",
   "execution_count": 4,
   "metadata": {
    "collapsed": false
   },
   "outputs": [
    {
     "name": "stdout",
     "output_type": "stream",
     "text": [
      "/home/rajat/theanoprojects/butterflyclassifier/leedsbutterfly/images\n"
     ]
    }
   ],
   "source": [
    "os.chdir(dataset_path)\n",
    "images_path = os.path.abspath(\"images\")\n",
    "print images_path\n",
    "os.mkdir('classes')"
   ]
  },
  {
   "cell_type": "code",
   "execution_count": 5,
   "metadata": {
    "collapsed": false
   },
   "outputs": [
    {
     "name": "stdout",
     "output_type": "stream",
     "text": [
      "/home/rajat/theanoprojects/butterflyclassifier/leedsbutterfly/classes\n"
     ]
    }
   ],
   "source": [
    "class_path = os.path.abspath(\"classes\")\n",
    "print class_path"
   ]
  },
  {
   "cell_type": "code",
   "execution_count": 6,
   "metadata": {
    "collapsed": false
   },
   "outputs": [],
   "source": [
    "os.chdir(class_path)\n",
    "for class in range(10):\n",
    "    os.mkdir(str(class+1))"
   ]
  },
  {
   "cell_type": "code",
   "execution_count": 7,
   "metadata": {
    "collapsed": true
   },
   "outputs": [],
   "source": [
    "os.chdir(images_path)"
   ]
  },
  {
   "cell_type": "code",
   "execution_count": 31,
   "metadata": {
    "collapsed": false
   },
   "outputs": [],
   "source": [
    "import re\n",
    "from os import walk\n",
    "from shutil import  copy\n",
    "all_images = []\n",
    "for (dirpath, dirnames, filenames) in walk(images_path):\n",
    "    all_images.extend(filenames)\n",
    "    break\n",
    "    \n",
    "for iclass in range(10):\n",
    "    for img in all_images:\n",
    "        if iclass < 9:\n",
    "            rgx = r\"^00\"+re.escape(str(iclass+1))+r\".+[.jpg]\"\n",
    "        else:\n",
    "            rgx = r\"^0\"+re.escape(str(iclass+1))+r\".+[.jpg]\"\n",
    "        if re.match(rgx, img):\n",
    "            copy(images_path+\"/\"+img, class_path+\"/\"+str(iclass+1))"
   ]
  },
  {
   "cell_type": "code",
   "execution_count": 32,
   "metadata": {
    "collapsed": false
   },
   "outputs": [
    {
     "name": "stdout",
     "output_type": "stream",
     "text": [
      "rajat\n"
     ]
    }
   ],
   "source": [
    "print \"rajat\""
   ]
  },
  {
   "cell_type": "code",
   "execution_count": null,
   "metadata": {
    "collapsed": true
   },
   "outputs": [],
   "source": []
  }
 ],
 "metadata": {
  "kernelspec": {
   "display_name": "Python 2",
   "language": "python",
   "name": "python2"
  },
  "language_info": {
   "codemirror_mode": {
    "name": "ipython",
    "version": 2
   },
   "file_extension": ".py",
   "mimetype": "text/x-python",
   "name": "python",
   "nbconvert_exporter": "python",
   "pygments_lexer": "ipython2",
   "version": "2.7.11"
  }
 },
 "nbformat": 4,
 "nbformat_minor": 0
}
